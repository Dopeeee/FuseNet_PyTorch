{
 "cells": [
  {
   "cell_type": "markdown",
   "metadata": {},
   "source": [
    "## FuseNet - Loss, Accuracy, Test\n",
    "\n",
    "<img src=\"http://vision.in.tum.de/_media/spezial/bib/hazirbasma2016fusenet.png\">\n",
    "<br>\n",
    "<td> <b>Training Information & Test Results: </b> \n",
    "  <div class=\"popup\">\n",
    "    <br> FuseNet on NYU v2 - 220 Epochs\n",
    "    <br> Training period: 02.07.2017 14:00 - 19:40 ~ 5.5 hrs \n",
    "    <br> Best global pixel-wise accuracy: <b>0.668</b> mean class-wise IoU accuracy: 0.300 mean accuracy: <b>0.444</b>\n",
    "    <br> Org. global pixel-wise accuracy: 0.660 mean class-wise IoU accuracy: <b>0.327</b> mean accuracy: 0.434\n",
    "    <br> Learning rate: 0.01 lr decay: 0.9 per 40 epochs weight decay: 0.0005 batch size: 4 best validation accuracy on epoch: 216\n",
    "    <br>\n",
    "    <br> FuseNet on SUN RGB-D - 250 Epochs\n",
    "    <br> Training period: 02.07.2017 20:00 - 03.07.2017 17:00 ~ 21 hrs \n",
    "    <br> Best global pixel-wise accuracy: <b>0.777</b> mean class-wise IoU accuracy: 0.273 mean accuracy: 0.479\n",
    "    <br> Org. global pixel-wise accuracy: 0.763 mean class-wise IoU accuracy: <b>0.373</b> mean accuracy: <b>0.483</b>\n",
    "    <br> learning rate: 0.01 lr decay: 0.9 per 40 epochs weight decay: 0.0005 batch size: 4 best validation accuracy on epoch: 250\n",
    "    <br> \n",
    "    <br>\n",
    "  </div>\n",
    "</td>\n"
   ]
  },
  {
   "cell_type": "code",
   "execution_count": 1,
   "metadata": {
    "collapsed": true
   },
   "outputs": [],
   "source": [
    "import numpy as np\n",
    "import matplotlib.pyplot as plt\n",
    "import torch\n",
    "from torch.autograd import Variable\n",
    "import h5py\n",
    "import scipy.io\n",
    "import os\n",
    "\n",
    "from FuseNet import FuseNet\n",
    "from utils.data_utils import get_data\n",
    "\n",
    "%matplotlib inline\n",
    "plt.rcParams['figure.figsize'] = (10.0, 8.0) # set default size of plots\n",
    "\n",
    "# for auto-reloading external modules\n",
    "%load_ext autoreload\n",
    "%autoreload 2"
   ]
  },
  {
   "cell_type": "markdown",
   "metadata": {},
   "source": [
    "\n",
    "## Plot the loss, training and validation accuracy \n",
    "\n",
    "- During training, the training accuracy was saved for the last batch at the end of each epoch. That's why the training accuracy plot looks mad."
   ]
  },
  {
   "cell_type": "code",
   "execution_count": 3,
   "metadata": {},
   "outputs": [
    {
     "name": "stdout",
     "output_type": "stream",
     "text": [
      "PLOT SELECTION. Enter '1' for NYU '2' for SUN RGB-D\n",
      "1\n",
      "[PROGRESS] Loading checkpoint: '/usr/stud/soenmeza/Desktop/FuseNet/models/nyu/checkpoint25.pth.tar'\n"
     ]
    },
    {
     "ename": "KeyError",
     "evalue": "'val_seg_acc_hist'",
     "output_type": "error",
     "traceback": [
      "\u001b[0;31m---------------------------------------------------------------------------\u001b[0m",
      "\u001b[0;31mKeyError\u001b[0m                                  Traceback (most recent call last)",
      "\u001b[0;32m<ipython-input-3-0d8a974422ec>\u001b[0m in \u001b[0;36m<module>\u001b[0;34m()\u001b[0m\n\u001b[1;32m     21\u001b[0m     \u001b[0mbest_val_acc\u001b[0m \u001b[0;34m=\u001b[0m \u001b[0mcheckpoint\u001b[0m\u001b[0;34m[\u001b[0m\u001b[0;34m'best_val_acc'\u001b[0m\u001b[0;34m]\u001b[0m\u001b[0;34m\u001b[0m\u001b[0m\n\u001b[1;32m     22\u001b[0m     \u001b[0mtrain_loss_history\u001b[0m \u001b[0;34m=\u001b[0m \u001b[0mcheckpoint\u001b[0m\u001b[0;34m[\u001b[0m\u001b[0;34m'train_loss_hist'\u001b[0m\u001b[0;34m]\u001b[0m\u001b[0;34m\u001b[0m\u001b[0m\n\u001b[0;32m---> 23\u001b[0;31m     \u001b[0mtrain_acc_history\u001b[0m \u001b[0;34m=\u001b[0m \u001b[0mcheckpoint\u001b[0m\u001b[0;34m[\u001b[0m\u001b[0;34m'val_seg_acc_hist'\u001b[0m\u001b[0;34m]\u001b[0m\u001b[0;34m\u001b[0m\u001b[0m\n\u001b[0m\u001b[1;32m     24\u001b[0m     \u001b[0mval_acc_history\u001b[0m \u001b[0;34m=\u001b[0m \u001b[0mcheckpoint\u001b[0m\u001b[0;34m[\u001b[0m\u001b[0;34m'val_class_acc_hist'\u001b[0m\u001b[0;34m]\u001b[0m\u001b[0;34m\u001b[0m\u001b[0m\n\u001b[1;32m     25\u001b[0m \u001b[0;32melse\u001b[0m\u001b[0;34m:\u001b[0m\u001b[0;34m\u001b[0m\u001b[0m\n",
      "\u001b[0;31mKeyError\u001b[0m: 'val_seg_acc_hist'"
     ]
    }
   ],
   "source": [
    "print(\"PLOT SELECTION. Enter '1' for NYU '2' for SUN RGB-D\")\n",
    "\n",
    "while True:\n",
    "    data = input()\n",
    "    if data == 1:\n",
    "        #model_path = '/work/soenmeza/FuseNet/models/nyu/checkpoint19.pth.tar'\n",
    "        model_path = '/usr/stud/soenmeza/Desktop/FuseNet/models/nyu/checkpoint25.pth.tar'\n",
    "        break\n",
    "    elif data == 2:\n",
    "        #model_path = '/work/soenmeza/FuseNet/models/sun/checkpoint7.pth.tar'\n",
    "        model_path = '/work/soenmeza/FuseNet/models/sun/model_best17.pth.tar'    \n",
    "        break\n",
    "    else:\n",
    "        print(\"You gave a wrong input!\")\n",
    "        continue\n",
    "        \n",
    "if os.path.isfile(model_path):\n",
    "    print(\"[PROGRESS] Loading checkpoint: '{}'\".format(model_path))\n",
    "    checkpoint = torch.load(model_path)\n",
    "    trained_epoch = checkpoint['epoch']\n",
    "    best_val_acc = checkpoint['best_val_acc']\n",
    "    train_loss_history = checkpoint['train_loss_hist']\n",
    "    train_acc_history = checkpoint['train_acc_hist']\n",
    "    val_acc_history = checkpoint['val_acc_hist']\n",
    "else:   \n",
    "    print(\"[ERROR] No checkpoint found at '{}'\".format(model_path))  \n",
    "\n",
    "plt.subplot(2, 1, 1)\n",
    "plt.plot(train_loss_history, 'o')\n",
    "plt.xlabel('iteration')\n",
    "plt.ylabel('loss')\n",
    "\n",
    "plt.subplot(2, 1, 2)\n",
    "plt.plot(train_acc_history, '-o')\n",
    "plt.plot(val_acc_history, '-o')\n",
    "plt.legend(['train', 'val'], loc='upper left')\n",
    "plt.legend(['train', 'val'], loc='upper left')\n",
    "plt.xlabel('epoch')\n",
    "plt.ylabel('accuracy')\n",
    "plt.show()\n",
    "\n",
    "epoch = 250\n",
    "print(\"Minimum loss achieved: %.3f\" %(np.min(train_loss_history)))\n",
    "print(\"Max validation accuracy until epoch number %i: %.3f\" %(epoch, np.max(val_acc_history[0:epoch])) )\n",
    "print(\"Best global pixel-wise accuracy: %.3f achieved on epoch: %i\" %(np.max(val_acc_history), np.argmax(val_acc_history)))"
   ]
  },
  {
   "cell_type": "markdown",
   "metadata": {},
   "source": [
    "## Get train and validation data"
   ]
  },
  {
   "cell_type": "code",
   "execution_count": 4,
   "metadata": {},
   "outputs": [
    {
     "name": "stdout",
     "output_type": "stream",
     "text": [
      "Dataset Selection. Please enter '1' to load NYU dataset and '2' to load SUN RGB-D dataset: \n",
      "1\n"
     ]
    },
    {
     "ename": "IOError",
     "evalue": "Unable to open file (Unable to open file: name = '/usr/stud/soenmeza/desktop/fusenet/data/h5_files/nyu_db.h5', errno = 2, error message = 'no such file or directory', flags = 0, o_flags = 0)",
     "output_type": "error",
     "traceback": [
      "\u001b[0;31m----------------------------------------------------------------\u001b[0m",
      "\u001b[0;31mIOError\u001b[0m                        Traceback (most recent call last)",
      "\u001b[0;32m<ipython-input-4-e3adc25eacd7>\u001b[0m in \u001b[0;36m<module>\u001b[0;34m()\u001b[0m\n\u001b[1;32m     18\u001b[0m         \u001b[0;32mcontinue\u001b[0m\u001b[0;34m\u001b[0m\u001b[0m\n\u001b[1;32m     19\u001b[0m \u001b[0;34m\u001b[0m\u001b[0m\n\u001b[0;32m---> 20\u001b[0;31m \u001b[0mtrain_data\u001b[0m\u001b[0;34m,\u001b[0m \u001b[0mval_data\u001b[0m \u001b[0;34m=\u001b[0m \u001b[0mget_data\u001b[0m\u001b[0;34m(\u001b[0m\u001b[0mdset_type\u001b[0m\u001b[0;34m=\u001b[0m\u001b[0mdset_type\u001b[0m\u001b[0;34m)\u001b[0m\u001b[0;34m\u001b[0m\u001b[0m\n\u001b[0m\u001b[1;32m     21\u001b[0m \u001b[0;34m\u001b[0m\u001b[0m\n\u001b[1;32m     22\u001b[0m \u001b[0;31m#train_loader = torch.utils.data.DataLoader(train_data, batch_size=4, shuffle=True, num_workers=1)\u001b[0m\u001b[0;34m\u001b[0m\u001b[0;34m\u001b[0m\u001b[0m\n",
      "\u001b[0;32m/usr/stud/soenmeza/Desktop/FuseNet/utils/data_utils.pyc\u001b[0m in \u001b[0;36mget_data\u001b[0;34m(dtype, dset_type)\u001b[0m\n\u001b[1;32m     43\u001b[0m         \u001b[0;32mprint\u001b[0m \u001b[0;34m'Wrong data requested. Please choose either \"NYU\" or \"SUN\".'\u001b[0m\u001b[0;34m\u001b[0m\u001b[0m\n\u001b[1;32m     44\u001b[0m \u001b[0;34m\u001b[0m\u001b[0m\n\u001b[0;32m---> 45\u001b[0;31m     \u001b[0mh5file\u001b[0m \u001b[0;34m=\u001b[0m \u001b[0mh5py\u001b[0m\u001b[0;34m.\u001b[0m\u001b[0mFile\u001b[0m\u001b[0;34m(\u001b[0m\u001b[0mpath\u001b[0m\u001b[0;34m,\u001b[0m \u001b[0;34m'r'\u001b[0m\u001b[0;34m)\u001b[0m\u001b[0;34m\u001b[0m\u001b[0m\n\u001b[0m\u001b[1;32m     46\u001b[0m \u001b[0;34m\u001b[0m\u001b[0m\n\u001b[1;32m     47\u001b[0m     \u001b[0;31m#### Create numpy arrays of training samples ####\u001b[0m\u001b[0;34m\u001b[0m\u001b[0;34m\u001b[0m\u001b[0m\n",
      "\u001b[0;32m/usr/stud/soenmeza/.local/lib/python2.7/site-packages/h5py/_hl/files.pyc\u001b[0m in \u001b[0;36m__init__\u001b[0;34m(self, name, mode, driver, libver, userblock_size, swmr, **kwds)\u001b[0m\n\u001b[1;32m    269\u001b[0m \u001b[0;34m\u001b[0m\u001b[0m\n\u001b[1;32m    270\u001b[0m                 \u001b[0mfapl\u001b[0m \u001b[0;34m=\u001b[0m \u001b[0mmake_fapl\u001b[0m\u001b[0;34m(\u001b[0m\u001b[0mdriver\u001b[0m\u001b[0;34m,\u001b[0m \u001b[0mlibver\u001b[0m\u001b[0;34m,\u001b[0m \u001b[0;34m**\u001b[0m\u001b[0mkwds\u001b[0m\u001b[0;34m)\u001b[0m\u001b[0;34m\u001b[0m\u001b[0m\n\u001b[0;32m--> 271\u001b[0;31m                 \u001b[0mfid\u001b[0m \u001b[0;34m=\u001b[0m \u001b[0mmake_fid\u001b[0m\u001b[0;34m(\u001b[0m\u001b[0mname\u001b[0m\u001b[0;34m,\u001b[0m \u001b[0mmode\u001b[0m\u001b[0;34m,\u001b[0m \u001b[0muserblock_size\u001b[0m\u001b[0;34m,\u001b[0m \u001b[0mfapl\u001b[0m\u001b[0;34m,\u001b[0m \u001b[0mswmr\u001b[0m\u001b[0;34m=\u001b[0m\u001b[0mswmr\u001b[0m\u001b[0;34m)\u001b[0m\u001b[0;34m\u001b[0m\u001b[0m\n\u001b[0m\u001b[1;32m    272\u001b[0m \u001b[0;34m\u001b[0m\u001b[0m\n\u001b[1;32m    273\u001b[0m                 \u001b[0;32mif\u001b[0m \u001b[0mswmr_support\u001b[0m\u001b[0;34m:\u001b[0m\u001b[0;34m\u001b[0m\u001b[0m\n",
      "\u001b[0;32m/usr/stud/soenmeza/.local/lib/python2.7/site-packages/h5py/_hl/files.pyc\u001b[0m in \u001b[0;36mmake_fid\u001b[0;34m(name, mode, userblock_size, fapl, fcpl, swmr)\u001b[0m\n\u001b[1;32m     99\u001b[0m         \u001b[0;32mif\u001b[0m \u001b[0mswmr\u001b[0m \u001b[0;32mand\u001b[0m \u001b[0mswmr_support\u001b[0m\u001b[0;34m:\u001b[0m\u001b[0;34m\u001b[0m\u001b[0m\n\u001b[1;32m    100\u001b[0m             \u001b[0mflags\u001b[0m \u001b[0;34m|=\u001b[0m \u001b[0mh5f\u001b[0m\u001b[0;34m.\u001b[0m\u001b[0mACC_SWMR_READ\u001b[0m\u001b[0;34m\u001b[0m\u001b[0m\n\u001b[0;32m--> 101\u001b[0;31m         \u001b[0mfid\u001b[0m \u001b[0;34m=\u001b[0m \u001b[0mh5f\u001b[0m\u001b[0;34m.\u001b[0m\u001b[0mopen\u001b[0m\u001b[0;34m(\u001b[0m\u001b[0mname\u001b[0m\u001b[0;34m,\u001b[0m \u001b[0mflags\u001b[0m\u001b[0;34m,\u001b[0m \u001b[0mfapl\u001b[0m\u001b[0;34m=\u001b[0m\u001b[0mfapl\u001b[0m\u001b[0;34m)\u001b[0m\u001b[0;34m\u001b[0m\u001b[0m\n\u001b[0m\u001b[1;32m    102\u001b[0m     \u001b[0;32melif\u001b[0m \u001b[0mmode\u001b[0m \u001b[0;34m==\u001b[0m \u001b[0;34m'r+'\u001b[0m\u001b[0;34m:\u001b[0m\u001b[0;34m\u001b[0m\u001b[0m\n\u001b[1;32m    103\u001b[0m         \u001b[0mfid\u001b[0m \u001b[0;34m=\u001b[0m \u001b[0mh5f\u001b[0m\u001b[0;34m.\u001b[0m\u001b[0mopen\u001b[0m\u001b[0;34m(\u001b[0m\u001b[0mname\u001b[0m\u001b[0;34m,\u001b[0m \u001b[0mh5f\u001b[0m\u001b[0;34m.\u001b[0m\u001b[0mACC_RDWR\u001b[0m\u001b[0;34m,\u001b[0m \u001b[0mfapl\u001b[0m\u001b[0;34m=\u001b[0m\u001b[0mfapl\u001b[0m\u001b[0;34m)\u001b[0m\u001b[0;34m\u001b[0m\u001b[0m\n",
      "\u001b[0;32mh5py/_objects.pyx\u001b[0m in \u001b[0;36mh5py._objects.with_phil.wrapper (/tmp/pip-nCYoKW-build/h5py/_objects.c:2840)\u001b[0;34m()\u001b[0m\n",
      "\u001b[0;32mh5py/_objects.pyx\u001b[0m in \u001b[0;36mh5py._objects.with_phil.wrapper (/tmp/pip-nCYoKW-build/h5py/_objects.c:2798)\u001b[0;34m()\u001b[0m\n",
      "\u001b[0;32mh5py/h5f.pyx\u001b[0m in \u001b[0;36mh5py.h5f.open (/tmp/pip-nCYoKW-build/h5py/h5f.c:2117)\u001b[0;34m()\u001b[0m\n",
      "\u001b[0;31mIOError\u001b[0m: Unable to open file (Unable to open file: name = '/usr/stud/soenmeza/desktop/fusenet/data/h5_files/nyu_db.h5', errno = 2, error message = 'no such file or directory', flags = 0, o_flags = 0)"
     ]
    }
   ],
   "source": [
    "print(\"Dataset Selection. Please enter '1' to load NYU dataset and '2' to load SUN RGB-D dataset: \")\n",
    "\n",
    "while True:\n",
    "    data = input()\n",
    "    if data == 1:\n",
    "        dset_type = 'NYU'\n",
    "        #model_path = '/rework/soenmeza/FuseNet/models/nyu/model_best10.pth.tar'\n",
    "        num_classes = 40\n",
    "        break\n",
    "    elif data == 2:\n",
    "        dset_type = 'SUN'\n",
    "        #model_path = '/work/soenmeza/FuseNet/models/sun/checkpoint7.pth.tar'\n",
    "        #model_path = '/rework/soenmeza/FuseNet/models/sun/model_best11.pth.tar'    \n",
    "        num_classes = 37\n",
    "        break\n",
    "    else:\n",
    "        print(\"You gave a wrong input!\")\n",
    "        continue\n",
    "\n",
    "train_data, val_data = get_data(dset_type=dset_type)\n",
    "\n",
    "#train_loader = torch.utils.data.DataLoader(train_data, batch_size=4, shuffle=True, num_workers=1)\n",
    "val_loader   = torch.utils.data.DataLoader(val_data, batch_size=1, shuffle=False, num_workers=1)\n",
    "\n",
    "print (\"[PROGRESS] %s dataset retrieved\"  %(dset_type))\n",
    "\n",
    "model = FuseNet(num_classes)\n",
    "\n",
    "print(\"[PROGRESS] Model created\")"
   ]
  },
  {
   "cell_type": "markdown",
   "metadata": {},
   "source": [
    "## Test the model"
   ]
  },
  {
   "cell_type": "code",
   "execution_count": 53,
   "metadata": {},
   "outputs": [
    {
     "name": "stdout",
     "output_type": "stream",
     "text": [
      "[PROGRESS] Chosen GPU Device: 0\n",
      "[PROGRESS] Loading checkpoint: '/work/soenmeza/FuseNet/models/sun/model_best17.pth.tar'\n",
      "[FINAL] TEST COMPLETED\n",
      "        Best VALIDATION Accuracy: 0.719 IoU: 0.224 Mean Accuracy: 0.394\n",
      "        Orgnal. FuseNet Accuracy: 0.763  IoU: 0.373 Mean Accuracy: 0.483\n"
     ]
    }
   ],
   "source": [
    "gpu_device = 0\n",
    "torch.cuda.set_device(gpu_device)\n",
    "print('[PROGRESS] Chosen GPU Device: ' + str(torch.cuda.current_device()))\n",
    "\n",
    "if dset_type == 'NYU':\n",
    "    model_path = '/work/soenmeza/FuseNet/models/nyu/model_best18.pth.tar'\n",
    "elif dset_type == 'SUN':\n",
    "    model_path = '/work/soenmeza/FuseNet/models/sun/model_best17.pth.tar'\n",
    "\n",
    "if os.path.isfile(model_path):\n",
    "    print(\"[PROGRESS] Loading checkpoint: '{}'\".format(model_path))\n",
    "    checkpoint = torch.load(model_path)\n",
    "    best_model = model\n",
    "    trained_epoch = checkpoint['epoch']\n",
    "    best_val_acc = checkpoint['best_val_acc']\n",
    "    best_model.load_state_dict(checkpoint['best_state_dict'])\n",
    "    best_model.eval()\n",
    "    val_acc_history = checkpoint['val_acc_hist']\n",
    "else:   \n",
    "    print(\"[ERROR] No checkpoint found at '{}'\".format(model_path))  \n",
    "\n",
    "# Calculate IoU and Mean accuracies\n",
    "val_confusion = np.zeros((num_classes,3))\n",
    "val_scores = []\n",
    "length = []\n",
    "IoU = 0.0\n",
    "mean_acc = 0.0\n",
    "global_acc = 0.0\n",
    "total = 0.0\n",
    "\n",
    "for batch in val_loader:\n",
    "    val_rgb_inputs  = Variable(batch[0].cuda(gpu_device))\n",
    "    val_d_inputs    = Variable(batch[1].cuda(gpu_device))\n",
    "    val_labels      = Variable(batch[2].cuda(gpu_device))\n",
    "    val_outputs     = best_model(val_rgb_inputs, val_d_inputs)\n",
    "    _, val_preds    = torch.max(val_outputs, 1)\n",
    "\n",
    "    val_labels = val_labels - 1\n",
    "    \n",
    "    labels_mask = val_labels >= 0\n",
    "    length.append(np.shape((val_preds == val_labels)[labels_mask].data.cpu().numpy()))\n",
    "    val_scores.append(np.sum((val_preds == val_labels)[labels_mask].data.cpu().numpy()))\n",
    "    \n",
    "    for i in range(num_classes):\n",
    "        val_labels_mask = val_labels == i\n",
    "        val_preds_mask = val_preds == i\n",
    "        TP = np.sum((val_preds == val_labels)[val_labels_mask].data.cpu().numpy())\n",
    "        val_confusion[i,0] += TP\n",
    "        val_confusion[i,1] += np.sum((val_labels==val_labels)[val_labels_mask].data.cpu().numpy()) - TP\n",
    "        val_confusion[i,2] += np.sum((val_preds==val_preds)[val_preds_mask].data.cpu().numpy()) - TP\n",
    "\n",
    "val_acc = np.sum(val_scores)\n",
    "len_sum = np.sum(length)\n",
    "val_acc /= len_sum\n",
    "        \n",
    "for i in range(num_classes):\n",
    "    TP, FP, FN = val_confusion[i]\n",
    "    total += TP + FP \n",
    "    global_acc += TP\n",
    "    IoU += TP / (TP + FP + FN)\n",
    "    mean_acc += TP / (TP + FP)\n",
    "IoU /= num_classes\n",
    "mean_acc /= num_classes\n",
    "global_acc /= total\n",
    "\n",
    "print(\"[FINAL] TEST COMPLETED\")\n",
    "print(\"        Best VALIDATION Accuracy: %.3f IoU: %.3f Mean Accuracy: %.3f\" % (global_acc, IoU, mean_acc))\n",
    "\n",
    "if dset_type == 'NYU':\n",
    "    print(\"        Orgnal. FuseNet Accuracy: 0.660 IoU: 0.327 Mean Accuracy: 0.434\")\n",
    "else:\n",
    "    print(\"        Orgnal. FuseNet Accuracy: 0.763  IoU: 0.373 Mean Accuracy: 0.483\")"
   ]
  },
  {
   "cell_type": "code",
   "execution_count": null,
   "metadata": {
    "collapsed": true
   },
   "outputs": [],
   "source": []
  }
 ],
 "metadata": {
  "kernelspec": {
   "display_name": "Python 2",
   "language": "python",
   "name": "python2"
  },
  "language_info": {
   "codemirror_mode": {
    "name": "ipython",
    "version": 2
   },
   "file_extension": ".py",
   "mimetype": "text/x-python",
   "name": "python",
   "nbconvert_exporter": "python",
   "pygments_lexer": "ipython2",
   "version": "2.7.12"
  }
 },
 "nbformat": 4,
 "nbformat_minor": 1
}
